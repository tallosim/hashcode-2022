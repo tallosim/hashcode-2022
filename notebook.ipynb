{
 "cells": [
  {
   "cell_type": "code",
   "execution_count": 1,
   "metadata": {},
   "outputs": [],
   "source": [
    "from main import *\n",
    "import copy"
   ]
  },
  {
   "cell_type": "code",
   "execution_count": 6,
   "metadata": {},
   "outputs": [],
   "source": [
    "contributors, projects = read_file('inputs/a_an_example.in.txt')"
   ]
  },
  {
   "cell_type": "code",
   "execution_count": 2,
   "metadata": {},
   "outputs": [],
   "source": [
    "def find_contributor(role, contributors):\n",
    "    for contributor in contributors:\n",
    "        if role.name in contributor.skills and contributor.skills[role.name] >= role.level:\n",
    "            return contributor\n",
    "\n",
    "    return None"
   ]
  },
  {
   "cell_type": "code",
   "execution_count": 7,
   "metadata": {},
   "outputs": [],
   "source": [
    "possible_projects = []\n",
    "\n",
    "for project in projects:\n",
    "    possible_contributors = []\n",
    "\n",
    "    for role in project.roles:\n",
    "        contributor = find_contributor(role, contributors)\n",
    "        if contributor == None:\n",
    "            possible_contributors.append(contributor)\n",
    "        else:\n",
    "            break\n",
    "    if len(possible_contributors) != len(project.roles):\n",
    "        break\n",
    "\n",
    "    project = copy.deepcopy(project)\n",
    "    project.contributors = possible_contributors\n",
    "    possible_projects.append(project)"
   ]
  },
  {
   "cell_type": "code",
   "execution_count": 10,
   "metadata": {},
   "outputs": [
    {
     "data": {
      "text/plain": [
       "[None]"
      ]
     },
     "execution_count": 10,
     "metadata": {},
     "output_type": "execute_result"
    }
   ],
   "source": [
    "possible_projects[0].contributors"
   ]
  },
  {
   "cell_type": "code",
   "execution_count": 3,
   "metadata": {},
   "outputs": [],
   "source": [
    "def solve_v1(input_path, ouput_path):\n",
    "    contributors, projects = read_file(input_path)\n",
    "\n",
    "    possible_projects = []\n",
    "\n",
    "    for project in projects:\n",
    "        possible_contributors = []\n",
    "\n",
    "        for role in project.roles:\n",
    "            contributor = find_contributor(role, contributors)\n",
    "            if contributor == None:\n",
    "                possible_contributors.append(contributor)\n",
    "            else:\n",
    "                break\n",
    "        if len(possible_contributors) != len(project.roles):\n",
    "            break\n",
    "        \n",
    "        project = copy.deepcopy(project)\n",
    "        project.contributors = possible_contributors\n",
    "        possible_projects.append(project)\n",
    "        \n",
    "    write_file(ouput_path, possible_projects)\n"
   ]
  },
  {
   "cell_type": "code",
   "execution_count": 13,
   "metadata": {},
   "outputs": [],
   "source": [
    "def get_score(input_path, ouput_path):\n",
    "    contributors, projects = read_file(input_path)\n",
    "\n",
    "    sum = 0\n",
    "    for p in projects:\n",
    "        sum = sum + p.score\n",
    "\n",
    "    print(ouput_path + ': ' + str(sum))"
   ]
  },
  {
   "cell_type": "code",
   "execution_count": 14,
   "metadata": {},
   "outputs": [
    {
     "name": "stdout",
     "output_type": "stream",
     "text": [
      "outputs/a.txt: 40\n",
      "outputs/b.txt: 1239673\n",
      "outputs/c.txt: 8036807\n",
      "outputs/d.txt: 3229412\n",
      "outputs/e.txt: 2774566\n",
      "outputs/f.txt: 9136275\n"
     ]
    }
   ],
   "source": [
    "run_for_all(get_score)"
   ]
  }
 ],
 "metadata": {
  "interpreter": {
   "hash": "50292dbb1f747f7151d445135d392af3138fb3c65386d17d9510cb605222b10b"
  },
  "kernelspec": {
   "display_name": "Python 3.9.10 64-bit",
   "language": "python",
   "name": "python3"
  },
  "language_info": {
   "codemirror_mode": {
    "name": "ipython",
    "version": 3
   },
   "file_extension": ".py",
   "mimetype": "text/x-python",
   "name": "python",
   "nbconvert_exporter": "python",
   "pygments_lexer": "ipython3",
   "version": "3.9.10"
  },
  "orig_nbformat": 4
 },
 "nbformat": 4,
 "nbformat_minor": 2
}
